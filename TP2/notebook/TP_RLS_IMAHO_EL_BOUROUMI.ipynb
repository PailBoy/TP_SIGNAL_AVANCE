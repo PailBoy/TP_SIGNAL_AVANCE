{
 "cells": [
  {
   "metadata": {},
   "cell_type": "markdown",
   "source": "# TP 2 :  Méthode de Signal Avancées Soustraction Adaptative de Bruit",
   "id": "3b7f2f80d34d68d3"
  },
  {
   "metadata": {},
   "cell_type": "code",
   "outputs": [],
   "execution_count": null,
   "source": "",
   "id": "6ee98df7b63b4edf"
  },
  {
   "metadata": {},
   "cell_type": "markdown",
   "source": "## Partie 1",
   "id": "9b72fd4e151ac7ba"
  },
  {
   "cell_type": "code",
   "execution_count": null,
   "id": "initial_id",
   "metadata": {
    "collapsed": true
   },
   "outputs": [],
   "source": [
    ""
   ]
  }
 ],
 "metadata": {
  "kernelspec": {
   "display_name": "Python 3",
   "language": "python",
   "name": "python3"
  },
  "language_info": {
   "codemirror_mode": {
    "name": "ipython",
    "version": 2
   },
   "file_extension": ".py",
   "mimetype": "text/x-python",
   "name": "python",
   "nbconvert_exporter": "python",
   "pygments_lexer": "ipython2",
   "version": "2.7.6"
  }
 },
 "nbformat": 4,
 "nbformat_minor": 5
}
